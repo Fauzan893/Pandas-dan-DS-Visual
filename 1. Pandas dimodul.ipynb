{
 "cells": [
  {
   "cell_type": "markdown",
   "id": "14e4cb31",
   "metadata": {},
   "source": [
    "# <center><div style=\"font-family: Times New Roman; font-size: 30px; border-radius : 10px; background-color:rgba(0, 255, 21, 1); color:rgb(0, 0, 0); padding: 12px; line-height: 0.7;\"> Pandas di modul</div></center>"
   ]
  },
  {
   "cell_type": "code",
   "execution_count": 3,
   "id": "3507d1bb",
   "metadata": {},
   "outputs": [
    {
     "name": "stdout",
     "output_type": "stream",
     "text": [
      "0     5\n",
      "1     1\n",
      "2     7\n",
      "3     4\n",
      "4    12\n",
      "dtype: int64\n"
     ]
    }
   ],
   "source": [
    "#Coding 1\n",
    "#running pandas dan numpy\n",
    "\n",
    "import pandas as pd\n",
    "\n",
    "import numpy as np\n",
    "\n",
    "\n",
    "#menampilkan array 1-dimensi\n",
    "\n",
    "ds = pd.Series([5, 1, 7, 4, 12])\n",
    "\n",
    "print(ds)"
   ]
  },
  {
   "cell_type": "code",
   "execution_count": 4,
   "id": "ec095d2c",
   "metadata": {},
   "outputs": [
    {
     "name": "stdout",
     "output_type": "stream",
     "text": [
      "0    a\n",
      "1    b\n",
      "2    c\n",
      "dtype: object\n",
      "0    x\n",
      "1    y\n",
      "2    z\n",
      "dtype: object\n",
      "20    x\n",
      "30    y\n",
      "40    z\n",
      "dtype: object\n"
     ]
    }
   ],
   "source": [
    "#Coding 2\n",
    "data = pd.Series(['a','b','c']) #!sS\n",
    "\n",
    "np1 = np.array(['x','y','z'])\n",
    "\n",
    "data_np = pd.Series(np1)\n",
    "\n",
    "\n",
    "print(data)\n",
    "\n",
    "print(data_np)\n",
    "\n",
    "\n",
    "#mengatur indeks pada numpy array data-np di atas\n",
    "\n",
    "data_np = pd.Series(np1, index=[20,30,40])\n",
    "\n",
    "print(data_np)"
   ]
  },
  {
   "cell_type": "code",
   "execution_count": 5,
   "id": "ca91da75",
   "metadata": {},
   "outputs": [
    {
     "name": "stdout",
     "output_type": "stream",
     "text": [
      "0     30\n",
      "1     70\n",
      "2    110\n",
      "3    150\n",
      "4    190\n",
      "dtype: int64\n",
      "0    10\n",
      "1    10\n",
      "2    10\n",
      "3    10\n",
      "4    10\n",
      "dtype: int64\n",
      "0     200\n",
      "1    1200\n",
      "2    3000\n",
      "3    5600\n",
      "4    9000\n",
      "dtype: int64\n",
      "0    2.000000\n",
      "1    1.333333\n",
      "2    1.200000\n",
      "3    1.142857\n",
      "4    1.111111\n",
      "dtype: float64\n"
     ]
    }
   ],
   "source": [
    "#Coding 3\n",
    "#Contoh Operasi\n",
    "ds1 = pd.Series([20, 40, 60, 80, 100])\n",
    "\n",
    "ds2 = pd.Series([10, 30, 50, 70, 90])\n",
    "\n",
    "dsa = ds1 + ds2  #operasi jumlah\n",
    "\n",
    "dsb = ds1 - ds2\n",
    "\n",
    "dsc = ds1 * ds2\n",
    "\n",
    "dsd = ds1 / ds2\n",
    "\n",
    "print(dsa)\n",
    "\n",
    "print(dsb)\n",
    "\n",
    "print(dsc)\n",
    "\n",
    "print(dsd)"
   ]
  },
  {
   "cell_type": "code",
   "execution_count": 7,
   "id": "36c02794",
   "metadata": {},
   "outputs": [
    {
     "name": "stdout",
     "output_type": "stream",
     "text": [
      "Pandas Series dan type\n",
      "0     2\n",
      "1     4\n",
      "2     6\n",
      "3     8\n",
      "4    10\n",
      "dtype: int64\n",
      "<class 'pandas.core.series.Series'>\n",
      "Konver Pandas Series ke Python list\n",
      "[2, 4, 6, 8, 10]\n",
      "<class 'list'>\n"
     ]
    }
   ],
   "source": [
    "#Coding 4\n",
    "#konver pandas module Series ke python list\n",
    "import pandas as pd\n",
    "\n",
    "ds = pd.Series([2, 4, 6, 8, 10])\n",
    "\n",
    "print(\"Pandas Series dan type\")\n",
    "\n",
    "print(ds)\n",
    "\n",
    "print(type(ds))\n",
    "\n",
    "\n",
    "print(\"Konver Pandas Series ke Python list\")\n",
    "\n",
    "print(ds.tolist())\n",
    "\n",
    "print(type(ds.tolist()))"
   ]
  },
  {
   "cell_type": "code",
   "execution_count": null,
   "id": "df696638",
   "metadata": {},
   "outputs": [],
   "source": [
    "#Coding 5\n",
    "#konver pandas module Series ke python list\n",
    "import numpy as np\n",
    "\n",
    "import pandas as pd\n",
    "\n",
    "np_array = np.array([10, 200, 300, 400, 500])\n",
    "\n",
    "print(\"NumPy array:\")\n",
    "\n",
    "print(np_array)\n",
    "\n",
    "\n",
    "new_np = pd.Series(np_array)\n",
    "\n",
    "print(\"konversi Pandas series:\")\n",
    "\n",
    "print(new_np)"
   ]
  },
  {
   "cell_type": "code",
   "execution_count": 8,
   "id": "819e04f7",
   "metadata": {},
   "outputs": [
    {
     "name": "stdout",
     "output_type": "stream",
     "text": [
      "0     48.391083\n",
      "1     50.641863\n",
      "2     49.949034\n",
      "3     51.288648\n",
      "4     49.398407\n",
      "        ...    \n",
      "75    51.974808\n",
      "76    47.967961\n",
      "77    54.091447\n",
      "78    50.499997\n",
      "79    51.302325\n",
      "Length: 80, dtype: float64\n"
     ]
    }
   ],
   "source": [
    "#Coding 6\n",
    "\n",
    "import pandas as pd\n",
    "\n",
    "import numpy as np\n",
    "\n",
    "\n",
    "#generate angka random\n",
    "\n",
    "num_state = np.random.RandomState(1000)\n",
    "\n",
    "num_series = pd.Series(num_state.normal(50, 2, 80))\n",
    "\n",
    "\n",
    "print(num_series)\n",
    "\n",
    "#print(num_state)"
   ]
  }
 ],
 "metadata": {
  "kernelspec": {
   "display_name": "Python 3",
   "language": "python",
   "name": "python3"
  },
  "language_info": {
   "codemirror_mode": {
    "name": "ipython",
    "version": 3
   },
   "file_extension": ".py",
   "mimetype": "text/x-python",
   "name": "python",
   "nbconvert_exporter": "python",
   "pygments_lexer": "ipython3",
   "version": "3.10.0"
  }
 },
 "nbformat": 4,
 "nbformat_minor": 5
}
